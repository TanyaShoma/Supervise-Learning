{
 "cells": [
  {
   "cell_type": "markdown",
   "metadata": {},
   "source": [
    "# Stroke Prediction\n",
    "\n",
    "According to the center for disease control and prevention in 2020, 1 over 6 deadths from cardiovascular disease was due to stroke, 1 every 40 seconds, someone in the United States has a stroke,  Every 3.5 minutes, someone dies of stroke, \n",
    "Every year, more than 795,000 people in the United States have a stroke and Stroke is a leading cause of serious long-term disability. Stroke is not only a major health concern in the United state but the adverse impact of stroke is experienced world wide. The world stroke organization (WSO) state that stoke remains the second-leading cause of death and the third leading cause of deadth and disability combined in the wolrd.\n",
    "\n",
    "In this project we are going to build supervise machine learning models for stroke prediction. \n",
    "The dataset contains 11 attribute plus one target variable, the target variable is stroke.\n",
    "\n",
    "# Dataset description\n",
    "\n",
    "Attribute Information\n",
    "\n",
    "1) id: unique identifier\n",
    "\n",
    "2) gender: \"Male\", \"Female\" or \"Other\"\n",
    "\n",
    "3) age: age of the patient\n",
    "\n",
    "4) hypertension: 0 if the patient doesn't have hypertension, 1 if the patient has hypertension\n",
    "\n",
    "5) heart_disease: 0 if the patient doesn't have any heart diseases, 1 if the patient has a heart disease\n",
    "\n",
    "6) ever_married: \"No\" or \"Yes\"\n",
    "\n",
    "7) work_type: \"children\", \"Govt_jov\", \"Never_worked\", \"Private\" or \"Self-employed\"\n",
    "\n",
    "8) Residence_type: \"Rural\" or \"Urban\"\n",
    "\n",
    "9) avg_glucose_level: average glucose level in blood\n",
    "\n",
    "10) bmi: body mass index\n",
    "\n",
    "11) smoking_status: \"formerly smoked\", \"never smoked\", \"smokes\" or \"Unknown\"*\n",
    "\n",
    "12) stroke: 1 if the patient had a stroke or 0 if not\n"
   ]
  },
  {
   "cell_type": "markdown",
   "metadata": {},
   "source": [
    "# Importing packages "
   ]
  },
  {
   "cell_type": "code",
   "execution_count": 49,
   "metadata": {
    "execution": {
     "iopub.execute_input": "2021-08-21T19:49:39.267Z",
     "iopub.status.busy": "2021-08-21T19:49:39.266509Z",
     "iopub.status.idle": "2021-08-21T19:49:39.273721Z",
     "shell.execute_reply": "2021-08-21T19:49:39.27271Z",
     "shell.execute_reply.started": "2021-08-21T19:49:39.266967Z"
    }
   },
   "outputs": [],
   "source": [
    "import pandas as pd\n",
    "import seaborn as sns\n",
    "import matplotlib.pyplot as plt\n",
    "import plotly.express as px\n",
    "import numpy as np\n",
    "from scipy import stats\n",
    "sns.set()\n",
    "from sklearn.preprocessing import OrdinalEncoder\n",
    "from sklearn.metrics import accuracy_score, precision_score, recall_score, f1_score\n",
    "\n",
    "\n",
    "import warnings\n",
    "warnings.filterwarnings(\"ignore\")"
   ]
  },
  {
   "cell_type": "code",
   "execution_count": 50,
   "metadata": {
    "execution": {
     "iopub.execute_input": "2021-08-21T19:49:39.359815Z",
     "iopub.status.busy": "2021-08-21T19:49:39.359416Z",
     "iopub.status.idle": "2021-08-21T19:49:39.382228Z",
     "shell.execute_reply": "2021-08-21T19:49:39.381161Z",
     "shell.execute_reply.started": "2021-08-21T19:49:39.359766Z"
    }
   },
   "outputs": [],
   "source": [
    "\n",
    "# Read the csv file\n",
    "df = pd.read_csv('Stroke_data.csv')"
   ]
  },
  {
   "cell_type": "markdown",
   "metadata": {},
   "source": [
    "# Exploratory Data Analysis (EDA)\n",
    "\n",
    "Our data contains 43400 rows and 12 columns"
   ]
  },
  {
   "cell_type": "code",
   "execution_count": 51,
   "metadata": {
    "scrolled": true
   },
   "outputs": [
    {
     "data": {
      "text/html": [
       "<div>\n",
       "<style scoped>\n",
       "    .dataframe tbody tr th:only-of-type {\n",
       "        vertical-align: middle;\n",
       "    }\n",
       "\n",
       "    .dataframe tbody tr th {\n",
       "        vertical-align: top;\n",
       "    }\n",
       "\n",
       "    .dataframe thead th {\n",
       "        text-align: right;\n",
       "    }\n",
       "</style>\n",
       "<table border=\"1\" class=\"dataframe\">\n",
       "  <thead>\n",
       "    <tr style=\"text-align: right;\">\n",
       "      <th></th>\n",
       "      <th>id</th>\n",
       "      <th>gender</th>\n",
       "      <th>age</th>\n",
       "      <th>hypertension</th>\n",
       "      <th>heart_disease</th>\n",
       "      <th>ever_married</th>\n",
       "      <th>work_type</th>\n",
       "      <th>Residence_type</th>\n",
       "      <th>avg_glucose_level</th>\n",
       "      <th>bmi</th>\n",
       "      <th>smoking_status</th>\n",
       "      <th>stroke</th>\n",
       "    </tr>\n",
       "  </thead>\n",
       "  <tbody>\n",
       "    <tr>\n",
       "      <th>0</th>\n",
       "      <td>30669</td>\n",
       "      <td>Male</td>\n",
       "      <td>3.0</td>\n",
       "      <td>0</td>\n",
       "      <td>0</td>\n",
       "      <td>No</td>\n",
       "      <td>children</td>\n",
       "      <td>Rural</td>\n",
       "      <td>95.12</td>\n",
       "      <td>18.0</td>\n",
       "      <td>NaN</td>\n",
       "      <td>0</td>\n",
       "    </tr>\n",
       "    <tr>\n",
       "      <th>1</th>\n",
       "      <td>30468</td>\n",
       "      <td>Male</td>\n",
       "      <td>58.0</td>\n",
       "      <td>1</td>\n",
       "      <td>0</td>\n",
       "      <td>Yes</td>\n",
       "      <td>Private</td>\n",
       "      <td>Urban</td>\n",
       "      <td>87.96</td>\n",
       "      <td>39.2</td>\n",
       "      <td>never smoked</td>\n",
       "      <td>0</td>\n",
       "    </tr>\n",
       "    <tr>\n",
       "      <th>2</th>\n",
       "      <td>16523</td>\n",
       "      <td>Female</td>\n",
       "      <td>8.0</td>\n",
       "      <td>0</td>\n",
       "      <td>0</td>\n",
       "      <td>No</td>\n",
       "      <td>Private</td>\n",
       "      <td>Urban</td>\n",
       "      <td>110.89</td>\n",
       "      <td>17.6</td>\n",
       "      <td>NaN</td>\n",
       "      <td>0</td>\n",
       "    </tr>\n",
       "    <tr>\n",
       "      <th>3</th>\n",
       "      <td>56543</td>\n",
       "      <td>Female</td>\n",
       "      <td>70.0</td>\n",
       "      <td>0</td>\n",
       "      <td>0</td>\n",
       "      <td>Yes</td>\n",
       "      <td>Private</td>\n",
       "      <td>Rural</td>\n",
       "      <td>69.04</td>\n",
       "      <td>35.9</td>\n",
       "      <td>formerly smoked</td>\n",
       "      <td>0</td>\n",
       "    </tr>\n",
       "    <tr>\n",
       "      <th>4</th>\n",
       "      <td>46136</td>\n",
       "      <td>Male</td>\n",
       "      <td>14.0</td>\n",
       "      <td>0</td>\n",
       "      <td>0</td>\n",
       "      <td>No</td>\n",
       "      <td>Never_worked</td>\n",
       "      <td>Rural</td>\n",
       "      <td>161.28</td>\n",
       "      <td>19.1</td>\n",
       "      <td>NaN</td>\n",
       "      <td>0</td>\n",
       "    </tr>\n",
       "    <tr>\n",
       "      <th>5</th>\n",
       "      <td>32257</td>\n",
       "      <td>Female</td>\n",
       "      <td>47.0</td>\n",
       "      <td>0</td>\n",
       "      <td>0</td>\n",
       "      <td>Yes</td>\n",
       "      <td>Private</td>\n",
       "      <td>Urban</td>\n",
       "      <td>210.95</td>\n",
       "      <td>50.1</td>\n",
       "      <td>NaN</td>\n",
       "      <td>0</td>\n",
       "    </tr>\n",
       "    <tr>\n",
       "      <th>6</th>\n",
       "      <td>52800</td>\n",
       "      <td>Female</td>\n",
       "      <td>52.0</td>\n",
       "      <td>0</td>\n",
       "      <td>0</td>\n",
       "      <td>Yes</td>\n",
       "      <td>Private</td>\n",
       "      <td>Urban</td>\n",
       "      <td>77.59</td>\n",
       "      <td>17.7</td>\n",
       "      <td>formerly smoked</td>\n",
       "      <td>0</td>\n",
       "    </tr>\n",
       "    <tr>\n",
       "      <th>7</th>\n",
       "      <td>41413</td>\n",
       "      <td>Female</td>\n",
       "      <td>75.0</td>\n",
       "      <td>0</td>\n",
       "      <td>1</td>\n",
       "      <td>Yes</td>\n",
       "      <td>Self-employed</td>\n",
       "      <td>Rural</td>\n",
       "      <td>243.53</td>\n",
       "      <td>27.0</td>\n",
       "      <td>never smoked</td>\n",
       "      <td>0</td>\n",
       "    </tr>\n",
       "    <tr>\n",
       "      <th>8</th>\n",
       "      <td>15266</td>\n",
       "      <td>Female</td>\n",
       "      <td>32.0</td>\n",
       "      <td>0</td>\n",
       "      <td>0</td>\n",
       "      <td>Yes</td>\n",
       "      <td>Private</td>\n",
       "      <td>Rural</td>\n",
       "      <td>77.67</td>\n",
       "      <td>32.3</td>\n",
       "      <td>smokes</td>\n",
       "      <td>0</td>\n",
       "    </tr>\n",
       "    <tr>\n",
       "      <th>9</th>\n",
       "      <td>28674</td>\n",
       "      <td>Female</td>\n",
       "      <td>74.0</td>\n",
       "      <td>1</td>\n",
       "      <td>0</td>\n",
       "      <td>Yes</td>\n",
       "      <td>Self-employed</td>\n",
       "      <td>Urban</td>\n",
       "      <td>205.84</td>\n",
       "      <td>54.6</td>\n",
       "      <td>never smoked</td>\n",
       "      <td>0</td>\n",
       "    </tr>\n",
       "  </tbody>\n",
       "</table>\n",
       "</div>"
      ],
      "text/plain": [
       "      id  gender   age  hypertension  heart_disease ever_married  \\\n",
       "0  30669    Male   3.0             0              0           No   \n",
       "1  30468    Male  58.0             1              0          Yes   \n",
       "2  16523  Female   8.0             0              0           No   \n",
       "3  56543  Female  70.0             0              0          Yes   \n",
       "4  46136    Male  14.0             0              0           No   \n",
       "5  32257  Female  47.0             0              0          Yes   \n",
       "6  52800  Female  52.0             0              0          Yes   \n",
       "7  41413  Female  75.0             0              1          Yes   \n",
       "8  15266  Female  32.0             0              0          Yes   \n",
       "9  28674  Female  74.0             1              0          Yes   \n",
       "\n",
       "       work_type Residence_type  avg_glucose_level   bmi   smoking_status  \\\n",
       "0       children          Rural              95.12  18.0              NaN   \n",
       "1        Private          Urban              87.96  39.2     never smoked   \n",
       "2        Private          Urban             110.89  17.6              NaN   \n",
       "3        Private          Rural              69.04  35.9  formerly smoked   \n",
       "4   Never_worked          Rural             161.28  19.1              NaN   \n",
       "5        Private          Urban             210.95  50.1              NaN   \n",
       "6        Private          Urban              77.59  17.7  formerly smoked   \n",
       "7  Self-employed          Rural             243.53  27.0     never smoked   \n",
       "8        Private          Rural              77.67  32.3           smokes   \n",
       "9  Self-employed          Urban             205.84  54.6     never smoked   \n",
       "\n",
       "   stroke  \n",
       "0       0  \n",
       "1       0  \n",
       "2       0  \n",
       "3       0  \n",
       "4       0  \n",
       "5       0  \n",
       "6       0  \n",
       "7       0  \n",
       "8       0  \n",
       "9       0  "
      ]
     },
     "execution_count": 51,
     "metadata": {},
     "output_type": "execute_result"
    }
   ],
   "source": [
    "df.head(10)"
   ]
  },
  {
   "cell_type": "markdown",
   "metadata": {},
   "source": [
    "We are goind to check the statistics of our dataset using data.describe(), data.info() will help us to see if our data as categorical value so later we can convert the categorical value to numerical value using encoding method. It is also important to check if the dataset containt any missing value so we can fill the missing value for a better data analysis. We can not complete this exploratory data analysis whithout checking the nature of our target variable in to to see if our data is balance or imbalanced."
   ]
  },
  {
   "cell_type": "markdown",
   "metadata": {},
   "source": [
    "## Data Statistics"
   ]
  },
  {
   "cell_type": "code",
   "execution_count": 52,
   "metadata": {},
   "outputs": [
    {
     "data": {
      "text/html": [
       "<div>\n",
       "<style scoped>\n",
       "    .dataframe tbody tr th:only-of-type {\n",
       "        vertical-align: middle;\n",
       "    }\n",
       "\n",
       "    .dataframe tbody tr th {\n",
       "        vertical-align: top;\n",
       "    }\n",
       "\n",
       "    .dataframe thead th {\n",
       "        text-align: right;\n",
       "    }\n",
       "</style>\n",
       "<table border=\"1\" class=\"dataframe\">\n",
       "  <thead>\n",
       "    <tr style=\"text-align: right;\">\n",
       "      <th></th>\n",
       "      <th>id</th>\n",
       "      <th>age</th>\n",
       "      <th>hypertension</th>\n",
       "      <th>heart_disease</th>\n",
       "      <th>avg_glucose_level</th>\n",
       "      <th>bmi</th>\n",
       "      <th>stroke</th>\n",
       "    </tr>\n",
       "  </thead>\n",
       "  <tbody>\n",
       "    <tr>\n",
       "      <th>count</th>\n",
       "      <td>43400.000000</td>\n",
       "      <td>43400.000000</td>\n",
       "      <td>43400.000000</td>\n",
       "      <td>43400.000000</td>\n",
       "      <td>43400.000000</td>\n",
       "      <td>41938.000000</td>\n",
       "      <td>43400.000000</td>\n",
       "    </tr>\n",
       "    <tr>\n",
       "      <th>mean</th>\n",
       "      <td>36326.142350</td>\n",
       "      <td>42.217894</td>\n",
       "      <td>0.093571</td>\n",
       "      <td>0.047512</td>\n",
       "      <td>104.482750</td>\n",
       "      <td>28.605038</td>\n",
       "      <td>0.018041</td>\n",
       "    </tr>\n",
       "    <tr>\n",
       "      <th>std</th>\n",
       "      <td>21072.134879</td>\n",
       "      <td>22.519649</td>\n",
       "      <td>0.291235</td>\n",
       "      <td>0.212733</td>\n",
       "      <td>43.111751</td>\n",
       "      <td>7.770020</td>\n",
       "      <td>0.133103</td>\n",
       "    </tr>\n",
       "    <tr>\n",
       "      <th>min</th>\n",
       "      <td>1.000000</td>\n",
       "      <td>0.080000</td>\n",
       "      <td>0.000000</td>\n",
       "      <td>0.000000</td>\n",
       "      <td>55.000000</td>\n",
       "      <td>10.100000</td>\n",
       "      <td>0.000000</td>\n",
       "    </tr>\n",
       "    <tr>\n",
       "      <th>25%</th>\n",
       "      <td>18038.500000</td>\n",
       "      <td>24.000000</td>\n",
       "      <td>0.000000</td>\n",
       "      <td>0.000000</td>\n",
       "      <td>77.540000</td>\n",
       "      <td>23.200000</td>\n",
       "      <td>0.000000</td>\n",
       "    </tr>\n",
       "    <tr>\n",
       "      <th>50%</th>\n",
       "      <td>36351.500000</td>\n",
       "      <td>44.000000</td>\n",
       "      <td>0.000000</td>\n",
       "      <td>0.000000</td>\n",
       "      <td>91.580000</td>\n",
       "      <td>27.700000</td>\n",
       "      <td>0.000000</td>\n",
       "    </tr>\n",
       "    <tr>\n",
       "      <th>75%</th>\n",
       "      <td>54514.250000</td>\n",
       "      <td>60.000000</td>\n",
       "      <td>0.000000</td>\n",
       "      <td>0.000000</td>\n",
       "      <td>112.070000</td>\n",
       "      <td>32.900000</td>\n",
       "      <td>0.000000</td>\n",
       "    </tr>\n",
       "    <tr>\n",
       "      <th>max</th>\n",
       "      <td>72943.000000</td>\n",
       "      <td>82.000000</td>\n",
       "      <td>1.000000</td>\n",
       "      <td>1.000000</td>\n",
       "      <td>291.050000</td>\n",
       "      <td>97.600000</td>\n",
       "      <td>1.000000</td>\n",
       "    </tr>\n",
       "  </tbody>\n",
       "</table>\n",
       "</div>"
      ],
      "text/plain": [
       "                 id           age  hypertension  heart_disease  \\\n",
       "count  43400.000000  43400.000000  43400.000000   43400.000000   \n",
       "mean   36326.142350     42.217894      0.093571       0.047512   \n",
       "std    21072.134879     22.519649      0.291235       0.212733   \n",
       "min        1.000000      0.080000      0.000000       0.000000   \n",
       "25%    18038.500000     24.000000      0.000000       0.000000   \n",
       "50%    36351.500000     44.000000      0.000000       0.000000   \n",
       "75%    54514.250000     60.000000      0.000000       0.000000   \n",
       "max    72943.000000     82.000000      1.000000       1.000000   \n",
       "\n",
       "       avg_glucose_level           bmi        stroke  \n",
       "count       43400.000000  41938.000000  43400.000000  \n",
       "mean          104.482750     28.605038      0.018041  \n",
       "std            43.111751      7.770020      0.133103  \n",
       "min            55.000000     10.100000      0.000000  \n",
       "25%            77.540000     23.200000      0.000000  \n",
       "50%            91.580000     27.700000      0.000000  \n",
       "75%           112.070000     32.900000      0.000000  \n",
       "max           291.050000     97.600000      1.000000  "
      ]
     },
     "execution_count": 52,
     "metadata": {},
     "output_type": "execute_result"
    }
   ],
   "source": [
    "df.describe()"
   ]
  },
  {
   "cell_type": "code",
   "execution_count": 53,
   "metadata": {},
   "outputs": [
    {
     "name": "stdout",
     "output_type": "stream",
     "text": [
      "<class 'pandas.core.frame.DataFrame'>\n",
      "RangeIndex: 43400 entries, 0 to 43399\n",
      "Data columns (total 12 columns):\n",
      " #   Column             Non-Null Count  Dtype  \n",
      "---  ------             --------------  -----  \n",
      " 0   id                 43400 non-null  int64  \n",
      " 1   gender             43400 non-null  object \n",
      " 2   age                43400 non-null  float64\n",
      " 3   hypertension       43400 non-null  int64  \n",
      " 4   heart_disease      43400 non-null  int64  \n",
      " 5   ever_married       43400 non-null  object \n",
      " 6   work_type          43400 non-null  object \n",
      " 7   Residence_type     43400 non-null  object \n",
      " 8   avg_glucose_level  43400 non-null  float64\n",
      " 9   bmi                41938 non-null  float64\n",
      " 10  smoking_status     30108 non-null  object \n",
      " 11  stroke             43400 non-null  int64  \n",
      "dtypes: float64(3), int64(4), object(5)\n",
      "memory usage: 4.0+ MB\n"
     ]
    }
   ],
   "source": [
    "df.info()"
   ]
  },
  {
   "cell_type": "markdown",
   "metadata": {},
   "source": [
    "From data.info() we can clearly see that we gender, ever_married, work_type, Residence_type, smoking_status \n",
    "are categorical variable that we need to convert to numerical variable for a better analysis."
   ]
  },
  {
   "cell_type": "markdown",
   "metadata": {},
   "source": [
    "## Handling missing value\n",
    "\n",
    "The question here is how to hanlde the missing values\n",
    "\n",
    "First let check the percentage of missing value for each attributes, that help us determine which method to use when handling missing value. For example if the percentage of missing value is insificante we can decide to drop rows that contains the missing value than to replace it."
   ]
  },
  {
   "cell_type": "code",
   "execution_count": 54,
   "metadata": {},
   "outputs": [
    {
     "name": "stdout",
     "output_type": "stream",
     "text": [
      "> id, Missing: 0 (0.0%)\n",
      "> gender, Missing: 0 (0.0%)\n",
      "> age, Missing: 0 (0.0%)\n",
      "> hypertension, Missing: 0 (0.0%)\n",
      "> heart_disease, Missing: 0 (0.0%)\n",
      "> ever_married, Missing: 0 (0.0%)\n",
      "> work_type, Missing: 0 (0.0%)\n",
      "> Residence_type, Missing: 0 (0.0%)\n",
      "> avg_glucose_level, Missing: 0 (0.0%)\n",
      "> bmi, Missing: 1462 (3.4%)\n",
      "> smoking_status, Missing: 13292 (30.6%)\n",
      "> stroke, Missing: 0 (0.0%)\n"
     ]
    }
   ],
   "source": [
    "# summarize the number of rows with missing values for each column\n",
    "for i in df.columns:\n",
    " # count number of rows with missing values\n",
    " n_miss = df[[i]].isnull().sum()\n",
    " perc = n_miss / df.shape[0] * 100\n",
    " print('> %s, Missing: %d (%.1f%%)' % (i, n_miss, perc))"
   ]
  },
  {
   "cell_type": "markdown",
   "metadata": {},
   "source": [
    "From the above output was can see that 30.6% of  smoking_status columns as missing values and 3.4% of bmi columns\n",
    "has missing values. The pourcentage of missing value of the smoking_status columns is highly significante that delete\n",
    "the rows that contantains the missing values will lead the hude data lost. \n",
    "Even tough bmi has only 3.4% of missing values, for this project we decide not to drop missing value but instead\n",
    "to fill them. There is many ways of filling missing values. \n",
    "\n",
    " Our dataset got 5 attributes (gender, ever_married, work_type, Residence_type, smoking_status) that is represented by non numerical values. \n",
    "Before to provide encoding tables for the 5 attributes, we need to know the unique value of each of this 5 attributes.\n",
    "The code from the cell below print the unique values of each of our 5 attributes."
   ]
  },
  {
   "cell_type": "code",
   "execution_count": 55,
   "metadata": {},
   "outputs": [
    {
     "name": "stdout",
     "output_type": "stream",
     "text": [
      "Unique values for gender: ['Male' 'Female' 'Other']\n",
      "Unique values for ever_married: ['No' 'Yes']\n",
      "Unique values for Residence_type: ['Rural' 'Urban']\n",
      "Unique values for work_type: ['children' 'Private' 'Never_worked' 'Self-employed' 'Govt_job']\n",
      "Unique values for smoking_status: [nan 'never smoked' 'formerly smoked' 'smokes']\n"
     ]
    }
   ],
   "source": [
    "# Select the columns to print unique values for\n",
    "selected_cols = ['gender', 'ever_married', 'Residence_type', 'work_type', 'smoking_status']\n",
    "\n",
    "# Loop through the selected columns and print unique values for each one\n",
    "for col in selected_cols:\n",
    "    unique_vals = df[col].unique()\n",
    "    print(f\"Unique values for {col}: {unique_vals}\")"
   ]
  },
  {
   "cell_type": "markdown",
   "metadata": {},
   "source": [
    "Without printing the unique values for gender, it could be hard for us to know that gender as Other as value. The code below shows which row contains the value Other on the attribute gender and how many rows contains the value Other."
   ]
  },
  {
   "cell_type": "markdown",
   "metadata": {},
   "source": [
    "## Data Visualisation"
   ]
  },
  {
   "cell_type": "code",
   "execution_count": 56,
   "metadata": {},
   "outputs": [
    {
     "data": {
      "text/plain": [
       "array([[<AxesSubplot:title={'center':'id'}>,\n",
       "        <AxesSubplot:title={'center':'age'}>,\n",
       "        <AxesSubplot:title={'center':'hypertension'}>],\n",
       "       [<AxesSubplot:title={'center':'heart_disease'}>,\n",
       "        <AxesSubplot:title={'center':'avg_glucose_level'}>,\n",
       "        <AxesSubplot:title={'center':'bmi'}>],\n",
       "       [<AxesSubplot:title={'center':'stroke'}>, <AxesSubplot:>,\n",
       "        <AxesSubplot:>]], dtype=object)"
      ]
     },
     "execution_count": 56,
     "metadata": {},
     "output_type": "execute_result"
    },
    {
     "data": {
      "image/png": "[encoded data removed]",
      "text/plain": [
       "<Figure size 1080x720 with 9 Axes>"
      ]
     },
     "metadata": {},
     "output_type": "display_data"
    }
   ],
   "source": [
    "df.hist(bins=30, figsize=(15,10))"
   ]
  },
  {
   "cell_type": "code",
   "execution_count": 57,
   "metadata": {},
   "outputs": [
    {
     "data": {
      "text/plain": [
       "<AxesSubplot:>"
      ]
     },
     "execution_count": 57,
     "metadata": {},
     "output_type": "execute_result"
    },
    {
     "data": {
      "image/png": "[encoded data removed]",
      "text/plain": [
       "<Figure size 432x288 with 1 Axes>"
      ]
     },
     "metadata": {},
     "output_type": "display_data"
    }
   ],
   "source": [
    "df['stroke'].value_counts().plot.bar()"
   ]
  },
  {
   "cell_type": "code",
   "execution_count": 58,
   "metadata": {},
   "outputs": [
    {
     "data": {
      "image/png": "[encoded data removed]",
      "text/plain": [
       "<Figure size 864x504 with 2 Axes>"
      ]
     },
     "metadata": {},
     "output_type": "display_data"
    }
   ],
   "source": [
    "plt.figure(figsize=(12,7))\n",
    "# Calculate correlation matrix\n",
    "corr_matrix = df.corr()\n",
    "\n",
    "# Create heatmap with correlation values\n",
    "sns.heatmap(corr_matrix, annot=True, cmap='coolwarm')\n",
    "\n",
    "# Set plot title and axis labels\n",
    "plt.title(\"Correlation Matrix Heatmap\")\n",
    "plt.xlabel(\"Features\")\n",
    "plt.ylabel(\"Features\")\n",
    "\n",
    "# Show plot\n",
    "plt.show()"
   ]
  },
  {
   "cell_type": "code",
   "execution_count": 59,
   "metadata": {},
   "outputs": [
    {
     "data": {
      "image/png": "[encoded data removed]",
      "text/plain": [
       "<Figure size 720x360 with 2 Axes>"
      ]
     },
     "metadata": {},
     "output_type": "display_data"
    }
   ],
   "source": [
    "## Nummber of male vs number of female having stroke\n",
    "\n",
    "\n",
    "# Count number of males and females having stroke\n",
    "gender_stroke_count = df[df[\"stroke\"] == 1][\"gender\"].value_counts()\n",
    "\n",
    "# Create figure with two subplots\n",
    "fig, (ax1, ax2) = plt.subplots(ncols=2, figsize=(10, 5))\n",
    "\n",
    "# Create pie chart on the first subplot\n",
    "ax1.pie(gender_stroke_count, labels=gender_stroke_count.index, autopct=\"%1.1f%%\")\n",
    "ax1.set_title(\"Proportion of Males and Females Having Stroke\")\n",
    "\n",
    "# Create bar plot on the second subplot\n",
    "sns.barplot(x=gender_stroke_count.index, y=gender_stroke_count.values, ax=ax2)\n",
    "ax2.set_title(\"Number of Males and Females Having Stroke\")\n",
    "\n",
    "# Show plot\n",
    "plt.show()"
   ]
  },
  {
   "cell_type": "code",
   "execution_count": 60,
   "metadata": {},
   "outputs": [
    {
     "data": {
      "image/png": "[encoded data removed]",
      "text/plain": [
       "<Figure size 864x432 with 2 Axes>"
      ]
     },
     "metadata": {},
     "output_type": "display_data"
    }
   ],
   "source": [
    "fig , (ax1,ax2) = plt.subplots(1,2, figsize=(12,6))\n",
    "sns.countplot(x= 'work_type', hue= 'stroke', data=df, ax=ax1)\n",
    "_ = ax1.set_xticklabels(labels = df['work_type'].unique(),rotation=60, ha='right')\n",
    "ax1.set_title('Work Types Among stroke and non stroke observations')\n",
    "\n",
    "sns.countplot(x= 'Residence_type', hue= 'stroke', data=df, ax = ax2)\n",
    "_ = ax2.set_title('Residence_type Among stroke and non stroke observations')\n",
    "\n",
    "plt.show()"
   ]
  },
  {
   "cell_type": "code",
   "execution_count": 61,
   "metadata": {},
   "outputs": [
    {
     "data": {
      "image/png": "[encoded data removed]",
      "text/plain": [
       "<Figure size 864x432 with 2 Axes>"
      ]
     },
     "metadata": {},
     "output_type": "display_data"
    }
   ],
   "source": [
    "fig , (ax1,ax2) = plt.subplots(1,2, figsize=(12,6))\n",
    "sns.countplot(x= 'hypertension', hue= 'stroke', data=df, ax=ax1)\n",
    "_ = ax1.set_xticklabels(labels = df['hypertension'].unique(),rotation=60, ha='right')\n",
    "ax1.set_title('Hypertension Among stroke and non stroke observations')\n",
    "\n",
    "sns.countplot(x= 'smoking_status', hue= 'stroke', data=df, ax = ax2)\n",
    "_ = ax2.set_title('smoking status Among stroke and non stroke observations')\n",
    "\n",
    "plt.show()"
   ]
  },
  {
   "cell_type": "code",
   "execution_count": 62,
   "metadata": {},
   "outputs": [
    {
     "name": "stdout",
     "output_type": "stream",
     "text": [
      "<class 'pandas.core.frame.DataFrame'>\n",
      "RangeIndex: 43400 entries, 0 to 43399\n",
      "Data columns (total 11 columns):\n",
      " #   Column             Non-Null Count  Dtype  \n",
      "---  ------             --------------  -----  \n",
      " 0   gender             43400 non-null  object \n",
      " 1   age                43400 non-null  float64\n",
      " 2   hypertension       43400 non-null  int64  \n",
      " 3   heart_disease      43400 non-null  int64  \n",
      " 4   ever_married       43400 non-null  object \n",
      " 5   work_type          43400 non-null  object \n",
      " 6   Residence_type     43400 non-null  object \n",
      " 7   avg_glucose_level  43400 non-null  float64\n",
      " 8   bmi                41938 non-null  float64\n",
      " 9   smoking_status     30108 non-null  object \n",
      " 10  stroke             43400 non-null  int64  \n",
      "dtypes: float64(3), int64(3), object(5)\n",
      "memory usage: 3.6+ MB\n"
     ]
    }
   ],
   "source": [
    "#drop id column \n",
    "df = df.drop(['id'], axis=1)\n",
    "df.info()"
   ]
  },
  {
   "cell_type": "code",
   "execution_count": 63,
   "metadata": {},
   "outputs": [
    {
     "data": {
      "text/plain": [
       "gender                   0\n",
       "age                      0\n",
       "hypertension             0\n",
       "heart_disease            0\n",
       "ever_married             0\n",
       "work_type                0\n",
       "Residence_type           0\n",
       "avg_glucose_level        0\n",
       "bmi                   1462\n",
       "smoking_status       13292\n",
       "stroke                   0\n",
       "dtype: int64"
      ]
     },
     "execution_count": 63,
     "metadata": {},
     "output_type": "execute_result"
    }
   ],
   "source": [
    "df.isna().sum()"
   ]
  },
  {
   "cell_type": "code",
   "execution_count": null,
   "metadata": {},
   "outputs": [],
   "source": []
  },
  {
   "cell_type": "markdown",
   "metadata": {},
   "source": [
    "## Ordinal encoder\n",
    "\n",
    "ordinal encoder convert categorical data to numerical data"
   ]
  },
  {
   "cell_type": "code",
   "execution_count": 64,
   "metadata": {},
   "outputs": [
    {
     "name": "stdout",
     "output_type": "stream",
     "text": [
      "<class 'pandas.core.frame.DataFrame'>\n",
      "RangeIndex: 43400 entries, 0 to 43399\n",
      "Data columns (total 11 columns):\n",
      " #   Column             Non-Null Count  Dtype  \n",
      "---  ------             --------------  -----  \n",
      " 0   gender             43400 non-null  float64\n",
      " 1   age                43400 non-null  float64\n",
      " 2   hypertension       43400 non-null  int64  \n",
      " 3   heart_disease      43400 non-null  int64  \n",
      " 4   ever_married       43400 non-null  float64\n",
      " 5   work_type          43400 non-null  float64\n",
      " 6   Residence_type     43400 non-null  float64\n",
      " 7   avg_glucose_level  43400 non-null  float64\n",
      " 8   bmi                41938 non-null  float64\n",
      " 9   smoking_status     30108 non-null  float64\n",
      " 10  stroke             43400 non-null  int64  \n",
      "dtypes: float64(8), int64(3)\n",
      "memory usage: 3.6 MB\n"
     ]
    }
   ],
   "source": [
    "###encode\n",
    "data_str=df\n",
    "encoder = OrdinalEncoder(handle_unknown='use_encoded_value', unknown_value=np.nan)\n",
    "encoder.fit(data_str[['gender', 'ever_married', 'work_type', 'Residence_type', 'smoking_status']])\n",
    "encoded_data = encoder.transform(data_str[['gender', 'ever_married', 'work_type', 'Residence_type', 'smoking_status']])\n",
    "data_str[['gender_encoded', 'ever_married_encoded', 'work_type_encoded', 'Residence_type_encoded', 'smoking_status_encoded']] = encoded_data\n",
    "data_str\n",
    "\n",
    "data_str[['gender','ever_married', 'Residence_type', 'work_type', 'smoking_status']]=data_str[['gender_encoded', 'ever_married_encoded', 'Residence_type_encoded', 'work_type_encoded', 'smoking_status_encoded']]\n",
    "\n",
    "data_str = data_str.drop(['gender_encoded', 'ever_married_encoded', 'Residence_type_encoded', 'work_type_encoded', 'smoking_status_encoded'], axis=1)\n",
    "\n",
    "data_str\n",
    "data_str.info()"
   ]
  },
  {
   "cell_type": "code",
   "execution_count": 65,
   "metadata": {
    "execution": {
     "iopub.execute_input": "2021-08-21T19:49:39.832888Z",
     "iopub.status.busy": "2021-08-21T19:49:39.832505Z",
     "iopub.status.idle": "2021-08-21T19:49:39.837073Z",
     "shell.execute_reply": "2021-08-21T19:49:39.835901Z",
     "shell.execute_reply.started": "2021-08-21T19:49:39.832851Z"
    }
   },
   "outputs": [],
   "source": [
    "#first import KNN imputer\n",
    "from sklearn.impute import KNNImputer"
   ]
  },
  {
   "cell_type": "code",
   "execution_count": 66,
   "metadata": {
    "execution": {
     "iopub.execute_input": "2021-08-21T19:49:39.887969Z",
     "iopub.status.busy": "2021-08-21T19:49:39.887374Z",
     "iopub.status.idle": "2021-08-21T19:49:39.998314Z",
     "shell.execute_reply": "2021-08-21T19:49:39.997076Z",
     "shell.execute_reply.started": "2021-08-21T19:49:39.887922Z"
    }
   },
   "outputs": [],
   "source": [
    "### Fill missing value using KNN\n",
    "import pandas as pd\n",
    "from sklearn.impute import KNNImputer\n",
    "\n",
    "df=data_str\n",
    "# select columns to impute\n",
    "impute_columns = ['bmi','smoking_status']\n",
    "impute_df = df[impute_columns]\n",
    "\n",
    "# create KNN imputer and fit to data\n",
    "imputer = KNNImputer(n_neighbors=5)\n",
    "imputer.fit(impute_df)\n",
    "\n",
    "# impute missing values\n",
    "imputed_data = imputer.transform(impute_df)\n",
    "\n",
    "# replace original dataframe with imputed values\n",
    "df[impute_columns] = imputed_data"
   ]
  },
  {
   "cell_type": "code",
   "execution_count": 67,
   "metadata": {},
   "outputs": [
    {
     "data": {
      "text/plain": [
       "gender               0\n",
       "age                  0\n",
       "hypertension         0\n",
       "heart_disease        0\n",
       "ever_married         0\n",
       "work_type            0\n",
       "Residence_type       0\n",
       "avg_glucose_level    0\n",
       "bmi                  0\n",
       "smoking_status       0\n",
       "stroke               0\n",
       "dtype: int64"
      ]
     },
     "execution_count": 67,
     "metadata": {},
     "output_type": "execute_result"
    }
   ],
   "source": [
    "df.isna().sum()"
   ]
  },
  {
   "cell_type": "markdown",
   "metadata": {},
   "source": [
    "## Outlier detection "
   ]
  },
  {
   "cell_type": "code",
   "execution_count": 68,
   "metadata": {
    "execution": {
     "iopub.execute_input": "2021-08-21T19:49:40.145185Z",
     "iopub.status.busy": "2021-08-21T19:49:40.144747Z",
     "iopub.status.idle": "2021-08-21T19:49:40.152771Z",
     "shell.execute_reply": "2021-08-21T19:49:40.151788Z",
     "shell.execute_reply.started": "2021-08-21T19:49:40.145155Z"
    }
   },
   "outputs": [
    {
     "data": {
      "image/png": "[encoded data removed]",
      "text/plain": [
       "<Figure size 432x288 with 1 Axes>"
      ]
     },
     "metadata": {},
     "output_type": "display_data"
    }
   ],
   "source": [
    "df['bmi'].plot(kind='box')\n",
    "plt.show()"
   ]
  },
  {
   "cell_type": "code",
   "execution_count": 69,
   "metadata": {},
   "outputs": [
    {
     "data": {
      "image/png": "[encoded data removed]",
      "text/plain": [
       "<Figure size 432x288 with 1 Axes>"
      ]
     },
     "metadata": {},
     "output_type": "display_data"
    }
   ],
   "source": [
    "df['smoking_status'].plot(kind='box')\n",
    "plt.show()"
   ]
  },
  {
   "cell_type": "code",
   "execution_count": 70,
   "metadata": {},
   "outputs": [
    {
     "data": {
      "image/png": "[encoded data removed]",
      "text/plain": [
       "<Figure size 432x288 with 1 Axes>"
      ]
     },
     "metadata": {},
     "output_type": "display_data"
    }
   ],
   "source": [
    "df['work_type'].plot(kind='box')\n",
    "plt.show()"
   ]
  },
  {
   "cell_type": "code",
   "execution_count": 71,
   "metadata": {},
   "outputs": [
    {
     "data": {
      "image/png": "[encoded data removed]",
      "text/plain": [
       "<Figure size 432x288 with 1 Axes>"
      ]
     },
     "metadata": {},
     "output_type": "display_data"
    }
   ],
   "source": [
    "df['avg_glucose_level'].plot(kind='box')\n",
    "plt.show()"
   ]
  },
  {
   "cell_type": "code",
   "execution_count": 72,
   "metadata": {
    "execution": {
     "iopub.execute_input": "2021-08-21T19:49:40.194769Z",
     "iopub.status.busy": "2021-08-21T19:49:40.194338Z",
     "iopub.status.idle": "2021-08-21T19:49:40.20131Z",
     "shell.execute_reply": "2021-08-21T19:49:40.200539Z",
     "shell.execute_reply.started": "2021-08-21T19:49:40.194732Z"
    }
   },
   "outputs": [],
   "source": [
    "\n",
    "def outlier_function(df, col_name):\n",
    "    ''' this function detects first and third quartile and interquartile range for a given column of a dataframe\n",
    "    then calculates upper and lower limits to determine outliers conservatively\n",
    "    returns the number of lower and uper limit and number of outliers respectively\n",
    "    '''\n",
    "    first_quartile = np.percentile(df[col_name], 25)\n",
    "    third_quartile = np.percentile(df[col_name], 75)\n",
    "    IQR = third_quartile - first_quartile\n",
    "                      \n",
    "    upper_limit = third_quartile+(1.5*IQR)\n",
    "    lower_limit = first_quartile-(1.5*IQR)\n",
    "    outlier_count = 0\n",
    "                      \n",
    "    for value in df[col_name].tolist():\n",
    "        if (value < lower_limit) | (value > upper_limit):\n",
    "            outlier_count +=1\n",
    "    return lower_limit, upper_limit, outlier_count"
   ]
  },
  {
   "cell_type": "code",
   "execution_count": 73,
   "metadata": {
    "execution": {
     "iopub.execute_input": "2021-08-21T19:49:40.225442Z",
     "iopub.status.busy": "2021-08-21T19:49:40.225074Z",
     "iopub.status.idle": "2021-08-21T19:49:40.249355Z",
     "shell.execute_reply": "2021-08-21T19:49:40.248402Z",
     "shell.execute_reply.started": "2021-08-21T19:49:40.22541Z"
    }
   },
   "outputs": [
    {
     "name": "stdout",
     "output_type": "stream",
     "text": [
      "There are 5440 outliers in work_type\n",
      "There are 4978 outliers in avg_glucose_level\n",
      "There are 1001 outliers in bmi\n",
      "There are 16384 outliers in smoking_status\n"
     ]
    }
   ],
   "source": [
    "numerics= df.select_dtypes(include='float64')\n",
    "for column in numerics.columns:\n",
    "    if outlier_function(numerics, column)[2] > 0:\n",
    "        print(\"There are {} outliers in {}\".format(outlier_function(df, column)[2], column))"
   ]
  },
  {
   "cell_type": "code",
   "execution_count": 74,
   "metadata": {
    "execution": {
     "iopub.execute_input": "2021-08-21T19:49:40.355641Z",
     "iopub.status.busy": "2021-08-21T19:49:40.355335Z",
     "iopub.status.idle": "2021-08-21T19:49:40.361058Z",
     "shell.execute_reply": "2021-08-21T19:49:40.360272Z",
     "shell.execute_reply.started": "2021-08-21T19:49:40.355611Z"
    }
   },
   "outputs": [
    {
     "data": {
      "text/plain": [
       "(43400, 11)"
      ]
     },
     "execution_count": 74,
     "metadata": {},
     "output_type": "execute_result"
    }
   ],
   "source": [
    "df.shape"
   ]
  },
  {
   "cell_type": "code",
   "execution_count": 75,
   "metadata": {
    "execution": {
     "iopub.execute_input": "2021-08-21T19:49:40.368348Z",
     "iopub.status.busy": "2021-08-21T19:49:40.368006Z",
     "iopub.status.idle": "2021-08-21T19:49:40.407637Z",
     "shell.execute_reply": "2021-08-21T19:49:40.406695Z",
     "shell.execute_reply.started": "2021-08-21T19:49:40.368318Z"
    },
    "scrolled": true
   },
   "outputs": [
    {
     "data": {
      "text/html": [
       "<div>\n",
       "<style scoped>\n",
       "    .dataframe tbody tr th:only-of-type {\n",
       "        vertical-align: middle;\n",
       "    }\n",
       "\n",
       "    .dataframe tbody tr th {\n",
       "        vertical-align: top;\n",
       "    }\n",
       "\n",
       "    .dataframe thead th {\n",
       "        text-align: right;\n",
       "    }\n",
       "</style>\n",
       "<table border=\"1\" class=\"dataframe\">\n",
       "  <thead>\n",
       "    <tr style=\"text-align: right;\">\n",
       "      <th></th>\n",
       "      <th>gender</th>\n",
       "      <th>age</th>\n",
       "      <th>hypertension</th>\n",
       "      <th>heart_disease</th>\n",
       "      <th>ever_married</th>\n",
       "      <th>work_type</th>\n",
       "      <th>Residence_type</th>\n",
       "      <th>avg_glucose_level</th>\n",
       "      <th>bmi</th>\n",
       "      <th>smoking_status</th>\n",
       "      <th>stroke</th>\n",
       "    </tr>\n",
       "  </thead>\n",
       "  <tbody>\n",
       "    <tr>\n",
       "      <th>count</th>\n",
       "      <td>43400.000000</td>\n",
       "      <td>43400.000000</td>\n",
       "      <td>43400.000000</td>\n",
       "      <td>43400.000000</td>\n",
       "      <td>43400.000000</td>\n",
       "      <td>43400.000000</td>\n",
       "      <td>43400.000000</td>\n",
       "      <td>43400.000000</td>\n",
       "      <td>43400.000000</td>\n",
       "      <td>43400.000000</td>\n",
       "      <td>43400.000000</td>\n",
       "    </tr>\n",
       "    <tr>\n",
       "      <th>mean</th>\n",
       "      <td>0.408894</td>\n",
       "      <td>42.217894</td>\n",
       "      <td>0.093571</td>\n",
       "      <td>0.047512</td>\n",
       "      <td>0.643733</td>\n",
       "      <td>2.185438</td>\n",
       "      <td>0.501290</td>\n",
       "      <td>104.482750</td>\n",
       "      <td>28.655275</td>\n",
       "      <td>0.972383</td>\n",
       "      <td>0.018041</td>\n",
       "    </tr>\n",
       "    <tr>\n",
       "      <th>std</th>\n",
       "      <td>0.492151</td>\n",
       "      <td>22.519649</td>\n",
       "      <td>0.291235</td>\n",
       "      <td>0.212733</td>\n",
       "      <td>0.478901</td>\n",
       "      <td>1.093158</td>\n",
       "      <td>0.500004</td>\n",
       "      <td>43.111751</td>\n",
       "      <td>7.648132</td>\n",
       "      <td>0.591504</td>\n",
       "      <td>0.133103</td>\n",
       "    </tr>\n",
       "    <tr>\n",
       "      <th>min</th>\n",
       "      <td>0.000000</td>\n",
       "      <td>0.080000</td>\n",
       "      <td>0.000000</td>\n",
       "      <td>0.000000</td>\n",
       "      <td>0.000000</td>\n",
       "      <td>0.000000</td>\n",
       "      <td>0.000000</td>\n",
       "      <td>55.000000</td>\n",
       "      <td>10.100000</td>\n",
       "      <td>0.000000</td>\n",
       "      <td>0.000000</td>\n",
       "    </tr>\n",
       "    <tr>\n",
       "      <th>25%</th>\n",
       "      <td>0.000000</td>\n",
       "      <td>24.000000</td>\n",
       "      <td>0.000000</td>\n",
       "      <td>0.000000</td>\n",
       "      <td>0.000000</td>\n",
       "      <td>2.000000</td>\n",
       "      <td>0.000000</td>\n",
       "      <td>77.540000</td>\n",
       "      <td>23.400000</td>\n",
       "      <td>0.800000</td>\n",
       "      <td>0.000000</td>\n",
       "    </tr>\n",
       "    <tr>\n",
       "      <th>50%</th>\n",
       "      <td>0.000000</td>\n",
       "      <td>44.000000</td>\n",
       "      <td>0.000000</td>\n",
       "      <td>0.000000</td>\n",
       "      <td>1.000000</td>\n",
       "      <td>2.000000</td>\n",
       "      <td>1.000000</td>\n",
       "      <td>91.580000</td>\n",
       "      <td>28.100000</td>\n",
       "      <td>1.000000</td>\n",
       "      <td>0.000000</td>\n",
       "    </tr>\n",
       "    <tr>\n",
       "      <th>75%</th>\n",
       "      <td>1.000000</td>\n",
       "      <td>60.000000</td>\n",
       "      <td>0.000000</td>\n",
       "      <td>0.000000</td>\n",
       "      <td>1.000000</td>\n",
       "      <td>3.000000</td>\n",
       "      <td>1.000000</td>\n",
       "      <td>112.070000</td>\n",
       "      <td>32.800000</td>\n",
       "      <td>1.000000</td>\n",
       "      <td>0.000000</td>\n",
       "    </tr>\n",
       "    <tr>\n",
       "      <th>max</th>\n",
       "      <td>2.000000</td>\n",
       "      <td>82.000000</td>\n",
       "      <td>1.000000</td>\n",
       "      <td>1.000000</td>\n",
       "      <td>1.000000</td>\n",
       "      <td>4.000000</td>\n",
       "      <td>1.000000</td>\n",
       "      <td>291.050000</td>\n",
       "      <td>97.600000</td>\n",
       "      <td>2.000000</td>\n",
       "      <td>1.000000</td>\n",
       "    </tr>\n",
       "  </tbody>\n",
       "</table>\n",
       "</div>"
      ],
      "text/plain": [
       "             gender           age  hypertension  heart_disease  ever_married  \\\n",
       "count  43400.000000  43400.000000  43400.000000   43400.000000  43400.000000   \n",
       "mean       0.408894     42.217894      0.093571       0.047512      0.643733   \n",
       "std        0.492151     22.519649      0.291235       0.212733      0.478901   \n",
       "min        0.000000      0.080000      0.000000       0.000000      0.000000   \n",
       "25%        0.000000     24.000000      0.000000       0.000000      0.000000   \n",
       "50%        0.000000     44.000000      0.000000       0.000000      1.000000   \n",
       "75%        1.000000     60.000000      0.000000       0.000000      1.000000   \n",
       "max        2.000000     82.000000      1.000000       1.000000      1.000000   \n",
       "\n",
       "          work_type  Residence_type  avg_glucose_level           bmi  \\\n",
       "count  43400.000000    43400.000000       43400.000000  43400.000000   \n",
       "mean       2.185438        0.501290         104.482750     28.655275   \n",
       "std        1.093158        0.500004          43.111751      7.648132   \n",
       "min        0.000000        0.000000          55.000000     10.100000   \n",
       "25%        2.000000        0.000000          77.540000     23.400000   \n",
       "50%        2.000000        1.000000          91.580000     28.100000   \n",
       "75%        3.000000        1.000000         112.070000     32.800000   \n",
       "max        4.000000        1.000000         291.050000     97.600000   \n",
       "\n",
       "       smoking_status        stroke  \n",
       "count    43400.000000  43400.000000  \n",
       "mean         0.972383      0.018041  \n",
       "std          0.591504      0.133103  \n",
       "min          0.000000      0.000000  \n",
       "25%          0.800000      0.000000  \n",
       "50%          1.000000      0.000000  \n",
       "75%          1.000000      0.000000  \n",
       "max          2.000000      1.000000  "
      ]
     },
     "execution_count": 75,
     "metadata": {},
     "output_type": "execute_result"
    }
   ],
   "source": [
    "df.describe()"
   ]
  },
  {
   "cell_type": "code",
   "execution_count": 76,
   "metadata": {
    "execution": {
     "iopub.execute_input": "2021-08-21T19:49:44.084584Z",
     "iopub.status.busy": "2021-08-21T19:49:44.083887Z",
     "iopub.status.idle": "2021-08-21T19:49:44.109209Z",
     "shell.execute_reply": "2021-08-21T19:49:44.108127Z",
     "shell.execute_reply.started": "2021-08-21T19:49:44.084539Z"
    }
   },
   "outputs": [
    {
     "data": {
      "text/html": [
       "<div>\n",
       "<style scoped>\n",
       "    .dataframe tbody tr th:only-of-type {\n",
       "        vertical-align: middle;\n",
       "    }\n",
       "\n",
       "    .dataframe tbody tr th {\n",
       "        vertical-align: top;\n",
       "    }\n",
       "\n",
       "    .dataframe thead th {\n",
       "        text-align: right;\n",
       "    }\n",
       "</style>\n",
       "<table border=\"1\" class=\"dataframe\">\n",
       "  <thead>\n",
       "    <tr style=\"text-align: right;\">\n",
       "      <th></th>\n",
       "      <th>gender</th>\n",
       "      <th>age</th>\n",
       "      <th>hypertension</th>\n",
       "      <th>heart_disease</th>\n",
       "      <th>ever_married</th>\n",
       "      <th>work_type</th>\n",
       "      <th>Residence_type</th>\n",
       "      <th>avg_glucose_level</th>\n",
       "      <th>bmi</th>\n",
       "      <th>smoking_status</th>\n",
       "      <th>stroke</th>\n",
       "    </tr>\n",
       "  </thead>\n",
       "  <tbody>\n",
       "    <tr>\n",
       "      <th>0</th>\n",
       "      <td>1.0</td>\n",
       "      <td>3.0</td>\n",
       "      <td>0</td>\n",
       "      <td>0</td>\n",
       "      <td>0.0</td>\n",
       "      <td>4.0</td>\n",
       "      <td>0.0</td>\n",
       "      <td>95.12</td>\n",
       "      <td>18.0</td>\n",
       "      <td>1.0</td>\n",
       "      <td>0</td>\n",
       "    </tr>\n",
       "    <tr>\n",
       "      <th>1</th>\n",
       "      <td>1.0</td>\n",
       "      <td>58.0</td>\n",
       "      <td>1</td>\n",
       "      <td>0</td>\n",
       "      <td>1.0</td>\n",
       "      <td>2.0</td>\n",
       "      <td>1.0</td>\n",
       "      <td>87.96</td>\n",
       "      <td>39.2</td>\n",
       "      <td>1.0</td>\n",
       "      <td>0</td>\n",
       "    </tr>\n",
       "    <tr>\n",
       "      <th>2</th>\n",
       "      <td>0.0</td>\n",
       "      <td>8.0</td>\n",
       "      <td>0</td>\n",
       "      <td>0</td>\n",
       "      <td>0.0</td>\n",
       "      <td>2.0</td>\n",
       "      <td>1.0</td>\n",
       "      <td>110.89</td>\n",
       "      <td>17.6</td>\n",
       "      <td>0.8</td>\n",
       "      <td>0</td>\n",
       "    </tr>\n",
       "    <tr>\n",
       "      <th>3</th>\n",
       "      <td>0.0</td>\n",
       "      <td>70.0</td>\n",
       "      <td>0</td>\n",
       "      <td>0</td>\n",
       "      <td>1.0</td>\n",
       "      <td>2.0</td>\n",
       "      <td>0.0</td>\n",
       "      <td>69.04</td>\n",
       "      <td>35.9</td>\n",
       "      <td>0.0</td>\n",
       "      <td>0</td>\n",
       "    </tr>\n",
       "    <tr>\n",
       "      <th>4</th>\n",
       "      <td>1.0</td>\n",
       "      <td>14.0</td>\n",
       "      <td>0</td>\n",
       "      <td>0</td>\n",
       "      <td>0.0</td>\n",
       "      <td>1.0</td>\n",
       "      <td>0.0</td>\n",
       "      <td>161.28</td>\n",
       "      <td>19.1</td>\n",
       "      <td>0.8</td>\n",
       "      <td>0</td>\n",
       "    </tr>\n",
       "  </tbody>\n",
       "</table>\n",
       "</div>"
      ],
      "text/plain": [
       "   gender   age  hypertension  heart_disease  ever_married  work_type  \\\n",
       "0     1.0   3.0             0              0           0.0        4.0   \n",
       "1     1.0  58.0             1              0           1.0        2.0   \n",
       "2     0.0   8.0             0              0           0.0        2.0   \n",
       "3     0.0  70.0             0              0           1.0        2.0   \n",
       "4     1.0  14.0             0              0           0.0        1.0   \n",
       "\n",
       "   Residence_type  avg_glucose_level   bmi  smoking_status  stroke  \n",
       "0             0.0              95.12  18.0             1.0       0  \n",
       "1             1.0              87.96  39.2             1.0       0  \n",
       "2             1.0             110.89  17.6             0.8       0  \n",
       "3             0.0              69.04  35.9             0.0       0  \n",
       "4             0.0             161.28  19.1             0.8       0  "
      ]
     },
     "execution_count": 76,
     "metadata": {},
     "output_type": "execute_result"
    }
   ],
   "source": [
    "df.head()"
   ]
  },
  {
   "cell_type": "markdown",
   "metadata": {},
   "source": [
    "## SMOTE to balance data\n",
    "\n",
    "Before applying SMOTE to balance our data let confirm that our data is umbalance"
   ]
  },
  {
   "cell_type": "code",
   "execution_count": 77,
   "metadata": {},
   "outputs": [
    {
     "name": "stdout",
     "output_type": "stream",
     "text": [
      "Percentage of stroke=0: 98.20%\n",
      "Percentage of stroke=1: 1.80%\n"
     ]
    }
   ],
   "source": [
    "### checking if our data is balance\n",
    "\n",
    "stroke_percentages = df['stroke'].value_counts(normalize=True) * 100\n",
    "\n",
    "# Print the percentages\n",
    "print(f\"Percentage of stroke=0: {stroke_percentages[0]:.2f}%\")\n",
    "print(f\"Percentage of stroke=1: {stroke_percentages[1]:.2f}%\")"
   ]
  },
  {
   "cell_type": "code",
   "execution_count": 78,
   "metadata": {},
   "outputs": [
    {
     "data": {
      "image/png": "[encoded data removed]",
      "text/plain": [
       "<Figure size 432x288 with 1 Axes>"
      ]
     },
     "metadata": {},
     "output_type": "display_data"
    }
   ],
   "source": [
    "stroke_counts = df['stroke'].value_counts()\n",
    "\n",
    "# Create a bar plot\n",
    "plt.bar(stroke_counts.index, stroke_counts.values)\n",
    "\n",
    "# Add labels and title\n",
    "plt.title('Counts of Stroke Values')\n",
    "plt.xlabel('Stroke')\n",
    "plt.ylabel('Count')\n",
    "plt.xticks([0, 1], ['0', '1'])\n",
    "\n",
    "# Show the plot\n",
    "plt.show()"
   ]
  },
  {
   "cell_type": "code",
   "execution_count": 79,
   "metadata": {
    "execution": {
     "iopub.execute_input": "2021-08-21T19:50:36.922768Z",
     "iopub.status.busy": "2021-08-21T19:50:36.922333Z",
     "iopub.status.idle": "2021-08-21T19:50:36.945011Z",
     "shell.execute_reply": "2021-08-21T19:50:36.943965Z",
     "shell.execute_reply.started": "2021-08-21T19:50:36.922734Z"
    }
   },
   "outputs": [],
   "source": [
    "from sklearn.model_selection import train_test_split\n",
    "target = df['stroke']\n",
    "predictors = df.drop('stroke', axis=1)\n",
    "x_train, x_test, y_train, y_test = train_test_split(predictors,target, test_size=0.2,\n",
    "                                                    random_state= 42, stratify = target.values)\n",
    "\n",
    "\n"
   ]
  },
  {
   "cell_type": "markdown",
   "metadata": {},
   "source": [
    "To balance our data we fisrt apply SMOTE (Synthetic Minority Oversampling Technique) to our data. SMOTE is an oversampling technique where syntehtic sample are generated for monirity class. For this project the minority class people with stroke and the majority is people with no strong. After SMOTE we are going to apply the undersampling method to reduce the majority class which is people without stroke.\n",
    "\n",
    "\n"
   ]
  },
  {
   "cell_type": "code",
   "execution_count": 80,
   "metadata": {
    "execution": {
     "iopub.execute_input": "2021-08-21T19:50:39.262875Z",
     "iopub.status.busy": "2021-08-21T19:50:39.262489Z",
     "iopub.status.idle": "2021-08-21T19:50:39.286179Z",
     "shell.execute_reply": "2021-08-21T19:50:39.285168Z",
     "shell.execute_reply.started": "2021-08-21T19:50:39.262842Z"
    },
    "scrolled": true
   },
   "outputs": [
    {
     "name": "stdout",
     "output_type": "stream",
     "text": [
      "Class distribution before smote sampling:\n",
      "0    42617\n",
      "1      783\n",
      "Name: stroke, dtype: int64\n",
      "Class distribution after smote sampling:\n",
      "0    34094\n",
      "1    13637\n",
      "Name: stroke, dtype: int64\n"
     ]
    }
   ],
   "source": [
    "# SMOTE method for class imbalance, \n",
    "X = df.drop('stroke', axis=1)\n",
    "y= df['stroke']\n",
    "from imblearn.over_sampling import SMOTE\n",
    "oversample = SMOTE(sampling_strategy= 0.4, random_state=42)\n",
    "X_smote,y_smote = oversample.fit_resample(x_train,y_train,)\n",
    "\n",
    "print('Class distribution before smote sampling:')\n",
    "print(y.value_counts())\n",
    "print('Class distribution after smote sampling:')\n",
    "print(pd.Series(y_smote).value_counts())\n"
   ]
  },
  {
   "cell_type": "code",
   "execution_count": 81,
   "metadata": {
    "execution": {
     "iopub.execute_input": "2021-08-21T19:50:41.458243Z",
     "iopub.status.busy": "2021-08-21T19:50:41.45785Z",
     "iopub.status.idle": "2021-08-21T19:50:41.499812Z",
     "shell.execute_reply": "2021-08-21T19:50:41.498859Z",
     "shell.execute_reply.started": "2021-08-21T19:50:41.45821Z"
    }
   },
   "outputs": [
    {
     "name": "stdout",
     "output_type": "stream",
     "text": [
      "Class distribution after smote and before random undersampling:\n",
      "0    34094\n",
      "1    13637\n",
      "Name: stroke, dtype: int64\n",
      "Class distribution after random undersampling:\n",
      "0    19481\n",
      "1    13637\n",
      "Name: stroke, dtype: int64\n"
     ]
    }
   ],
   "source": [
    "# undersampling \n",
    "from imblearn.under_sampling import NearMiss\n",
    "nearmiss = NearMiss(sampling_strategy = 0.7)\n",
    "X_unders, y_unders = nearmiss.fit_resample(X_smote, y_smote)\n",
    "\n",
    "print('Class distribution after smote and before random undersampling:')\n",
    "print(y_smote.value_counts())\n",
    "print('Class distribution after random undersampling:')\n",
    "print(pd.Series(y_unders).value_counts())\n",
    "\n"
   ]
  },
  {
   "cell_type": "code",
   "execution_count": 82,
   "metadata": {},
   "outputs": [
    {
     "name": "stdout",
     "output_type": "stream",
     "text": [
      "Percentage of stroke=0: 98.20%\n",
      "Percentage of stroke=1: 1.80%\n"
     ]
    }
   ],
   "source": [
    "stroke_percentages = df['stroke'].value_counts(normalize=True) * 100\n",
    "\n",
    "# Print the percentages\n",
    "print(f\"Percentage of stroke=0: {stroke_percentages[0]:.2f}%\")\n",
    "print(f\"Percentage of stroke=1: {stroke_percentages[1]:.2f}%\")"
   ]
  },
  {
   "cell_type": "code",
   "execution_count": 83,
   "metadata": {},
   "outputs": [
    {
     "data": {
      "image/png": "[encoded data removed]",
      "text/plain": [
       "<Figure size 432x288 with 1 Axes>"
      ]
     },
     "metadata": {},
     "output_type": "display_data"
    }
   ],
   "source": [
    "stroke_counts = df['stroke'].value_counts()\n",
    "\n",
    "# Create a bar plot\n",
    "plt.bar(stroke_counts.index, stroke_counts.values)\n",
    "\n",
    "# Add labels and title\n",
    "plt.title('Counts of Stroke Values')\n",
    "plt.xlabel('Stroke')\n",
    "plt.ylabel('Count')\n",
    "plt.xticks([0, 1], ['0', '1'])\n",
    "\n",
    "# Show the plot\n",
    "plt.show()"
   ]
  },
  {
   "cell_type": "markdown",
   "metadata": {},
   "source": [
    "## Models on umbalance data"
   ]
  },
  {
   "cell_type": "code",
   "execution_count": 84,
   "metadata": {
    "execution": {
     "iopub.execute_input": "2021-08-21T19:50:47.06306Z",
     "iopub.status.busy": "2021-08-21T19:50:47.062626Z",
     "iopub.status.idle": "2021-08-21T19:50:47.069842Z",
     "shell.execute_reply": "2021-08-21T19:50:47.068726Z",
     "shell.execute_reply.started": "2021-08-21T19:50:47.063021Z"
    }
   },
   "outputs": [],
   "source": [
    "\n",
    "from sklearn.metrics import accuracy_score\n",
    "\n",
    "#ML algoritms\n",
    "from sklearn.linear_model import LogisticRegression\n",
    "from sklearn.linear_model import LinearRegression\n",
    "from sklearn.naive_bayes import GaussianNB\n",
    "from sklearn.neighbors import KNeighborsClassifier\n",
    "from sklearn.tree import DecisionTreeClassifier\n",
    "from sklearn.svm import SVC\n",
    "from sklearn.discriminant_analysis import LinearDiscriminantAnalysis\n",
    "from sklearn.ensemble import RandomForestClassifier\n",
    "from sklearn.ensemble import BaggingClassifier\n",
    "from sklearn.ensemble import GradientBoostingClassifier\n",
    "from sklearn.ensemble import AdaBoostClassifier\n",
    "\n",
    "from sklearn.metrics import classification_report, confusion_matrix\n",
    "from sklearn.model_selection import cross_val_score"
   ]
  },
  {
   "cell_type": "code",
   "execution_count": 85,
   "metadata": {
    "execution": {
     "iopub.execute_input": "2021-08-21T19:50:50.266079Z",
     "iopub.status.busy": "2021-08-21T19:50:50.265686Z",
     "iopub.status.idle": "2021-08-21T19:50:51.885494Z",
     "shell.execute_reply": "2021-08-21T19:50:51.884387Z",
     "shell.execute_reply.started": "2021-08-21T19:50:50.266047Z"
    }
   },
   "outputs": [
    {
     "name": "stdout",
     "output_type": "stream",
     "text": [
      "[[8523    0]\n",
      " [ 157    0]]\n",
      "[[8523    0]\n",
      " [ 157    0]]\n",
      "[[8306  217]\n",
      " [ 141   16]]\n",
      "[[8516    7]\n",
      " [ 157    0]]\n",
      "[[7867  656]\n",
      " [ 112   45]]\n",
      "[[8521    2]\n",
      " [ 157    0]]\n",
      "[[8523    0]\n",
      " [ 157    0]]\n",
      "[[8515    8]\n",
      " [ 156    1]]\n"
     ]
    }
   ],
   "source": [
    "# Data before applying sampling method \n",
    "model_accuracy = pd.DataFrame(columns=['Model','Accuracy'])\n",
    "models = {\"LR\": LogisticRegression(),\n",
    "          \"SVM\": SVC(kernel='linear'),\n",
    "          'DTC' : DecisionTreeClassifier(),\n",
    "         \"KNN\" : KNeighborsClassifier(),\n",
    "          \"NB\": GaussianNB(),\n",
    "          'RFC' : RandomForestClassifier(),\n",
    "          'ABC' : AdaBoostClassifier(),\n",
    "          'GBC' : GradientBoostingClassifier(),\n",
    "          \n",
    "          }\n",
    "\n",
    "          \n",
    "          \n",
    "\n",
    "for test, clf in models.items():\n",
    "    clf.fit(x_train, y_train)\n",
    "    y_pred = clf.predict(x_test)\n",
    "    acc = accuracy_score(y_test,y_pred)\n",
    "    precision = precision_score(y_test,y_pred)\n",
    "    f1 = f1_score(y_test,y_pred)\n",
    "    recall=recall_score(y_test,y_pred)\n",
    "   \n",
    "    print(confusion_matrix(y_test, y_pred))\n",
    "  \n",
    "    model_accuracy = model_accuracy.append({'Model': test, 'Model': test, 'Accuracy': acc, 'precision': precision, 'Recall':recall,'f1_score': f1}, ignore_index=True)"
   ]
  },
  {
   "cell_type": "code",
   "execution_count": 86,
   "metadata": {
    "execution": {
     "iopub.execute_input": "2021-08-21T19:51:07.277441Z",
     "iopub.status.busy": "2021-08-21T19:51:07.277033Z",
     "iopub.status.idle": "2021-08-21T19:51:07.289184Z",
     "shell.execute_reply": "2021-08-21T19:51:07.288141Z",
     "shell.execute_reply.started": "2021-08-21T19:51:07.277403Z"
    }
   },
   "outputs": [
    {
     "data": {
      "text/html": [
       "<div>\n",
       "<style scoped>\n",
       "    .dataframe tbody tr th:only-of-type {\n",
       "        vertical-align: middle;\n",
       "    }\n",
       "\n",
       "    .dataframe tbody tr th {\n",
       "        vertical-align: top;\n",
       "    }\n",
       "\n",
       "    .dataframe thead th {\n",
       "        text-align: right;\n",
       "    }\n",
       "</style>\n",
       "<table border=\"1\" class=\"dataframe\">\n",
       "  <thead>\n",
       "    <tr style=\"text-align: right;\">\n",
       "      <th></th>\n",
       "      <th>Model</th>\n",
       "      <th>Accuracy</th>\n",
       "      <th>Recall</th>\n",
       "      <th>f1_score</th>\n",
       "      <th>precision</th>\n",
       "    </tr>\n",
       "  </thead>\n",
       "  <tbody>\n",
       "    <tr>\n",
       "      <th>0</th>\n",
       "      <td>LR</td>\n",
       "      <td>0.981912</td>\n",
       "      <td>0.000000</td>\n",
       "      <td>0.000000</td>\n",
       "      <td>0.000000</td>\n",
       "    </tr>\n",
       "    <tr>\n",
       "      <th>1</th>\n",
       "      <td>SVM</td>\n",
       "      <td>0.981912</td>\n",
       "      <td>0.000000</td>\n",
       "      <td>0.000000</td>\n",
       "      <td>0.000000</td>\n",
       "    </tr>\n",
       "    <tr>\n",
       "      <th>2</th>\n",
       "      <td>DTC</td>\n",
       "      <td>0.958756</td>\n",
       "      <td>0.101911</td>\n",
       "      <td>0.082051</td>\n",
       "      <td>0.068670</td>\n",
       "    </tr>\n",
       "    <tr>\n",
       "      <th>3</th>\n",
       "      <td>KNN</td>\n",
       "      <td>0.981106</td>\n",
       "      <td>0.000000</td>\n",
       "      <td>0.000000</td>\n",
       "      <td>0.000000</td>\n",
       "    </tr>\n",
       "    <tr>\n",
       "      <th>4</th>\n",
       "      <td>NB</td>\n",
       "      <td>0.911521</td>\n",
       "      <td>0.286624</td>\n",
       "      <td>0.104895</td>\n",
       "      <td>0.064194</td>\n",
       "    </tr>\n",
       "    <tr>\n",
       "      <th>5</th>\n",
       "      <td>RFC</td>\n",
       "      <td>0.981682</td>\n",
       "      <td>0.000000</td>\n",
       "      <td>0.000000</td>\n",
       "      <td>0.000000</td>\n",
       "    </tr>\n",
       "    <tr>\n",
       "      <th>6</th>\n",
       "      <td>ABC</td>\n",
       "      <td>0.981912</td>\n",
       "      <td>0.000000</td>\n",
       "      <td>0.000000</td>\n",
       "      <td>0.000000</td>\n",
       "    </tr>\n",
       "    <tr>\n",
       "      <th>7</th>\n",
       "      <td>GBC</td>\n",
       "      <td>0.981106</td>\n",
       "      <td>0.006369</td>\n",
       "      <td>0.012048</td>\n",
       "      <td>0.111111</td>\n",
       "    </tr>\n",
       "  </tbody>\n",
       "</table>\n",
       "</div>"
      ],
      "text/plain": [
       "  Model  Accuracy    Recall  f1_score  precision\n",
       "0    LR  0.981912  0.000000  0.000000   0.000000\n",
       "1   SVM  0.981912  0.000000  0.000000   0.000000\n",
       "2   DTC  0.958756  0.101911  0.082051   0.068670\n",
       "3   KNN  0.981106  0.000000  0.000000   0.000000\n",
       "4    NB  0.911521  0.286624  0.104895   0.064194\n",
       "5   RFC  0.981682  0.000000  0.000000   0.000000\n",
       "6   ABC  0.981912  0.000000  0.000000   0.000000\n",
       "7   GBC  0.981106  0.006369  0.012048   0.111111"
      ]
     },
     "execution_count": 86,
     "metadata": {},
     "output_type": "execute_result"
    }
   ],
   "source": [
    "model_accuracy"
   ]
  },
  {
   "cell_type": "markdown",
   "metadata": {},
   "source": [
    "Before resample the data the accuracy of models is good ranging from 0.91 to 0.98 but the precison, recall and F1 score for stroke is 0. having 0 as precison, recall and F1 score is a bad indicator, it is because the nature of the data. let us run all the model with the balanced data and compare the outcome of the precision, recall and F1 score.\n",
    "\n",
    "\n",
    "\n"
   ]
  },
  {
   "cell_type": "markdown",
   "metadata": {},
   "source": [
    "## Model after balancing data"
   ]
  },
  {
   "cell_type": "code",
   "execution_count": 87,
   "metadata": {
    "execution": {
     "iopub.execute_input": "2021-08-21T19:51:19.507744Z",
     "iopub.status.busy": "2021-08-21T19:51:19.507369Z",
     "iopub.status.idle": "2021-08-21T19:51:19.519745Z",
     "shell.execute_reply": "2021-08-21T19:51:19.518732Z",
     "shell.execute_reply.started": "2021-08-21T19:51:19.507714Z"
    }
   },
   "outputs": [
    {
     "name": "stdout",
     "output_type": "stream",
     "text": [
      "(6623, 10) (26495, 10)\n",
      "(6623,) (26495,)\n"
     ]
    }
   ],
   "source": [
    "#resampled data train_test_split\n",
    "resampX_train, resampX_test, resampy_train, resampy_test = train_test_split(X_unders, y_unders, test_size= 0.8,\n",
    "                                                               random_state=42)\n",
    "\n",
    "print(resampX_train.shape, resampX_test.shape)\n",
    "print(resampy_train.shape, resampy_test.shape)"
   ]
  },
  {
   "cell_type": "code",
   "execution_count": 88,
   "metadata": {
    "execution": {
     "iopub.execute_input": "2021-08-21T19:51:21.887932Z",
     "iopub.status.busy": "2021-08-21T19:51:21.887502Z",
     "iopub.status.idle": "2021-08-21T19:51:23.267301Z",
     "shell.execute_reply": "2021-08-21T19:51:23.266041Z",
     "shell.execute_reply.started": "2021-08-21T19:51:21.887894Z"
    }
   },
   "outputs": [
    {
     "name": "stdout",
     "output_type": "stream",
     "text": [
      "[[12293  3383]\n",
      " [ 3985  6834]]\n",
      "[[11788  3888]\n",
      " [ 3603  7216]]\n",
      "[[11413  4263]\n",
      " [ 1050  9769]]\n",
      "[[14434  1242]\n",
      " [ 1037  9782]]\n",
      "[[11259  4417]\n",
      " [ 3279  7540]]\n",
      "[[15483   193]\n",
      " [  774 10045]]\n",
      "[[15381   295]\n",
      " [ 1269  9550]]\n",
      "[[15577    99]\n",
      " [ 1114  9705]]\n"
     ]
    }
   ],
   "source": [
    "# model with balanced data\n",
    "model_accuracy = pd.DataFrame(columns=['Model','Accuracy'])\n",
    "models = {\"LR\": LogisticRegression(),\n",
    "          \"SVM\": SVC(kernel='linear'),\n",
    "         \"KNN\" : KNeighborsClassifier(),\n",
    "          'DTC' : DecisionTreeClassifier(),\n",
    "          \"NB\": GaussianNB(),\n",
    "          'RFC' : RandomForestClassifier(),\n",
    "          'ABC' : AdaBoostClassifier(),\n",
    "          'GBC' : GradientBoostingClassifier(),\n",
    "          \n",
    "          }\n",
    "\n",
    "for test, clf in models.items():\n",
    "    clf.fit(resampX_train, resampy_train)\n",
    "    y_pred = clf.predict(resampX_test)\n",
    "    acc = accuracy_score(resampy_test,y_pred)\n",
    "    precision = precision_score(resampy_test, y_pred)\n",
    "    f1 = f1_score(resampy_test, y_pred)\n",
    "    recall=recall_score(resampy_test, y_pred)\n",
    "    train_pred = clf.predict(resampX_train)\n",
    "    \n",
    "    print(confusion_matrix(resampy_test,y_pred))\n",
    "   \n",
    "    model_accuracy = model_accuracy.append({'Model': test, 'Accuracy': acc, 'precision': precision, 'recall':recall,'f1_score': f1}, ignore_index=True)"
   ]
  },
  {
   "cell_type": "code",
   "execution_count": 89,
   "metadata": {
    "execution": {
     "iopub.execute_input": "2021-08-21T19:51:38.852265Z",
     "iopub.status.busy": "2021-08-21T19:51:38.851886Z",
     "iopub.status.idle": "2021-08-21T19:51:38.86538Z",
     "shell.execute_reply": "2021-08-21T19:51:38.864333Z",
     "shell.execute_reply.started": "2021-08-21T19:51:38.852235Z"
    }
   },
   "outputs": [
    {
     "data": {
      "text/html": [
       "<div>\n",
       "<style scoped>\n",
       "    .dataframe tbody tr th:only-of-type {\n",
       "        vertical-align: middle;\n",
       "    }\n",
       "\n",
       "    .dataframe tbody tr th {\n",
       "        vertical-align: top;\n",
       "    }\n",
       "\n",
       "    .dataframe thead th {\n",
       "        text-align: right;\n",
       "    }\n",
       "</style>\n",
       "<table border=\"1\" class=\"dataframe\">\n",
       "  <thead>\n",
       "    <tr style=\"text-align: right;\">\n",
       "      <th></th>\n",
       "      <th>Model</th>\n",
       "      <th>Accuracy</th>\n",
       "      <th>f1_score</th>\n",
       "      <th>precision</th>\n",
       "      <th>recall</th>\n",
       "    </tr>\n",
       "  </thead>\n",
       "  <tbody>\n",
       "    <tr>\n",
       "      <th>5</th>\n",
       "      <td>RFC</td>\n",
       "      <td>0.963503</td>\n",
       "      <td>0.954077</td>\n",
       "      <td>0.981149</td>\n",
       "      <td>0.928459</td>\n",
       "    </tr>\n",
       "    <tr>\n",
       "      <th>7</th>\n",
       "      <td>GBC</td>\n",
       "      <td>0.954218</td>\n",
       "      <td>0.941182</td>\n",
       "      <td>0.989902</td>\n",
       "      <td>0.897033</td>\n",
       "    </tr>\n",
       "    <tr>\n",
       "      <th>6</th>\n",
       "      <td>ABC</td>\n",
       "      <td>0.94097</td>\n",
       "      <td>0.924313</td>\n",
       "      <td>0.970036</td>\n",
       "      <td>0.882706</td>\n",
       "    </tr>\n",
       "    <tr>\n",
       "      <th>3</th>\n",
       "      <td>DTC</td>\n",
       "      <td>0.913984</td>\n",
       "      <td>0.895665</td>\n",
       "      <td>0.887337</td>\n",
       "      <td>0.904150</td>\n",
       "    </tr>\n",
       "    <tr>\n",
       "      <th>2</th>\n",
       "      <td>KNN</td>\n",
       "      <td>0.799472</td>\n",
       "      <td>0.786206</td>\n",
       "      <td>0.696194</td>\n",
       "      <td>0.902949</td>\n",
       "    </tr>\n",
       "    <tr>\n",
       "      <th>0</th>\n",
       "      <td>LR</td>\n",
       "      <td>0.72191</td>\n",
       "      <td>0.649743</td>\n",
       "      <td>0.668885</td>\n",
       "      <td>0.631667</td>\n",
       "    </tr>\n",
       "    <tr>\n",
       "      <th>1</th>\n",
       "      <td>SVM</td>\n",
       "      <td>0.717267</td>\n",
       "      <td>0.658304</td>\n",
       "      <td>0.649856</td>\n",
       "      <td>0.666975</td>\n",
       "    </tr>\n",
       "    <tr>\n",
       "      <th>4</th>\n",
       "      <td>NB</td>\n",
       "      <td>0.70953</td>\n",
       "      <td>0.662100</td>\n",
       "      <td>0.630593</td>\n",
       "      <td>0.696922</td>\n",
       "    </tr>\n",
       "  </tbody>\n",
       "</table>\n",
       "</div>"
      ],
      "text/plain": [
       "  Model  Accuracy  f1_score  precision    recall\n",
       "5   RFC  0.963503  0.954077   0.981149  0.928459\n",
       "7   GBC  0.954218  0.941182   0.989902  0.897033\n",
       "6   ABC   0.94097  0.924313   0.970036  0.882706\n",
       "3   DTC  0.913984  0.895665   0.887337  0.904150\n",
       "2   KNN  0.799472  0.786206   0.696194  0.902949\n",
       "0    LR   0.72191  0.649743   0.668885  0.631667\n",
       "1   SVM  0.717267  0.658304   0.649856  0.666975\n",
       "4    NB   0.70953  0.662100   0.630593  0.696922"
      ]
     },
     "execution_count": 89,
     "metadata": {},
     "output_type": "execute_result"
    }
   ],
   "source": [
    "model_accuracy.sort_values('Accuracy', ascending=False)"
   ]
  },
  {
   "cell_type": "code",
   "execution_count": 90,
   "metadata": {},
   "outputs": [
    {
     "data": {
      "image/png": "[encoded data removed]",
      "text/plain": [
       "<Figure size 576x432 with 1 Axes>"
      ]
     },
     "metadata": {},
     "output_type": "display_data"
    }
   ],
   "source": [
    "import matplotlib.pyplot as plt\n",
    "\n",
    "# create a bar plot of model accuracy scores\n",
    "plt.figure(figsize=(8, 6))\n",
    "plt.bar(model_accuracy['Model'], model_accuracy['Accuracy'])\n",
    "plt.title('Model Accuracy Scores')\n",
    "plt.xlabel('Model')\n",
    "plt.ylabel('Accuracy')\n",
    "plt.ylim([0, 1])\n",
    "plt.show()\n"
   ]
  },
  {
   "cell_type": "code",
   "execution_count": null,
   "metadata": {},
   "outputs": [],
   "source": []
  },
  {
   "cell_type": "code",
   "execution_count": null,
   "metadata": {},
   "outputs": [],
   "source": []
  },
  {
   "cell_type": "code",
   "execution_count": null,
   "metadata": {},
   "outputs": [],
   "source": []
  }
 ],
 "metadata": {
  "kernelspec": {
   "display_name": "Python 3 (ipykernel)",
   "language": "python",
   "name": "python3"
  },
  "language_info": {
   "codemirror_mode": {
    "name": "ipython",
    "version": 3
   },
   "file_extension": ".py",
   "mimetype": "text/x-python",
   "name": "python",
   "nbconvert_exporter": "python",
   "pygments_lexer": "ipython3",
   "version": "3.9.12"
  }
 },
 "nbformat": 4,
 "nbformat_minor": 4
}
